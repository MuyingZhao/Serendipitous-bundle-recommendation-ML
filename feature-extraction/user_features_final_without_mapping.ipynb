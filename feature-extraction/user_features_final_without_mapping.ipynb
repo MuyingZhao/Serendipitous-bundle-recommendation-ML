{
 "cells": [
  {
   "cell_type": "code",
   "execution_count": 3,
   "metadata": {},
   "outputs": [],
   "source": [
    "import pandas as pd\n",
    "import json\n",
    "from sklearn.cluster import KMeans\n",
    "australian_users_items = pd.read_csv(\"aus_user_item.csv\", index_col=[0]).reset_index()\n",
    "items_json = json.load(open(\"numeric_values_tags.json\"))\n",
    "item_df = pd.DataFrame(items_json)\n",
    "item_df[\"item_id\"] = item_df[\"item_id\"].astype(int)\n",
    "item_tag_list = item_df.tags.tolist()"
   ]
  },
  {
   "cell_type": "code",
   "execution_count": 4,
   "metadata": {},
   "outputs": [],
   "source": [
    "kmeans = KMeans(n_clusters=8, random_state=42, max_iter=600, init=\"k-means++\").fit(item_tag_list)\n",
    "item_label = {list(item_df.item_id)[i]:kmeans.labels_[i] for i in range(len(kmeans.labels_))}\n",
    "item_df[\"label\"] = item_df.apply(lambda x: item_label[x.item_id], axis=1)\n"
   ]
  },
  {
   "cell_type": "code",
   "execution_count": 5,
   "metadata": {},
   "outputs": [],
   "source": [
    "# from sklearn.manifold import TSNE\n",
    "# from matplotlib import pyplot as plt\n",
    "# tsne = TSNE(n_components=2, random_state=0)\n",
    "# user_2_dim = tsne.fit_transform(item_tag_list)"
   ]
  },
  {
   "cell_type": "code",
   "execution_count": 6,
   "metadata": {},
   "outputs": [],
   "source": [
    "# import matplotlib.cm as cm\n",
    "# import numpy as np\n",
    "# fig, ax = plt.subplots()\n",
    "# ax.scatter(user_2_dim[:, 0], user_2_dim[:, 1], c=kmeans.labels_, cmap='viridis')\n",
    "# plt.show()"
   ]
  },
  {
   "cell_type": "code",
   "execution_count": 7,
   "metadata": {},
   "outputs": [],
   "source": [
    "def set_label_id(item_id):\n",
    "    try:\n",
    "        return item_label[item_id]\n",
    "    except:\n",
    "        return -1 # 表示上一个表里面没有，需要调查\n",
    "australian_users_items['item_label'] = australian_users_items.apply(lambda x: set_label_id(x[\"item_id\"]), axis=1)\n",
    "# australian_users_items = australian_users_items.drop(\"index\", axis=1)\n",
    "australian_users_items = australian_users_items[australian_users_items[\"item_label\"] != -1]"
   ]
  },
  {
   "cell_type": "code",
   "execution_count": 8,
   "metadata": {},
   "outputs": [],
   "source": [
    "user_label_count = australian_users_items.groupby(\"steam_id\")[\"item_label\"].nunique()\n",
    "user_max_game_hours = australian_users_items.groupby(\"steam_id\")[\"playtime_forever\"].max()\n",
    "user_total_game_hours = australian_users_items.groupby(\"steam_id\")[\"playtime_forever\"].sum()\n",
    "user_features = pd.merge(pd.merge(user_total_game_hours,user_label_count, on=\"steam_id\"), user_max_game_hours, on=\"steam_id\")"
   ]
  },
  {
   "cell_type": "code",
   "execution_count": 9,
   "metadata": {},
   "outputs": [],
   "source": [
    "user_features.rename({\"playtime_forever_x\":\"user_total_game_hours\", \"playtime_forever_y\":\"user_max_game_hours\"},axis=1, inplace=True)"
   ]
  },
  {
   "cell_type": "code",
   "execution_count": 10,
   "metadata": {},
   "outputs": [],
   "source": [
    "user_feature = pd.concat([user_features, pd.DataFrame(columns=['user_depth','user_width'])], sort=False)\n",
    "user_feature[\"user_width\"] = user_feature.apply(lambda x: x['item_label'] / 8, axis=1)\n",
    "user_feature['user_depth'] = user_feature.apply(lambda x: x['user_max_game_hours'] / x['user_total_game_hours'] if x['user_total_game_hours'] != 0 else 0, axis=1)\n",
    "user_feature = pd.DataFrame(user_feature, columns=['user_depth', 'user_width'])\n",
    "user_feature = user_feature.reset_index().rename({\"index\":\"user_id\"},axis=1)"
   ]
  },
  {
   "cell_type": "code",
   "execution_count": 11,
   "metadata": {},
   "outputs": [],
   "source": [
    "user_feature.to_csv(\"features_dataset/user_features_with_depth.csv\")"
   ]
  },
  {
   "cell_type": "code",
   "execution_count": 12,
   "metadata": {},
   "outputs": [
    {
     "data": {
      "text/html": [
       "<div>\n",
       "<style scoped>\n",
       "    .dataframe tbody tr th:only-of-type {\n",
       "        vertical-align: middle;\n",
       "    }\n",
       "\n",
       "    .dataframe tbody tr th {\n",
       "        vertical-align: top;\n",
       "    }\n",
       "\n",
       "    .dataframe thead th {\n",
       "        text-align: right;\n",
       "    }\n",
       "</style>\n",
       "<table border=\"1\" class=\"dataframe\">\n",
       "  <thead>\n",
       "    <tr style=\"text-align: right;\">\n",
       "      <th></th>\n",
       "      <th>user_id</th>\n",
       "      <th>user_depth</th>\n",
       "      <th>user_width</th>\n",
       "    </tr>\n",
       "  </thead>\n",
       "  <tbody>\n",
       "    <tr>\n",
       "      <th>0</th>\n",
       "      <td>76561197960269200</td>\n",
       "      <td>0.228855</td>\n",
       "      <td>0.875</td>\n",
       "    </tr>\n",
       "    <tr>\n",
       "      <th>1</th>\n",
       "      <td>76561197960270504</td>\n",
       "      <td>0.163600</td>\n",
       "      <td>0.875</td>\n",
       "    </tr>\n",
       "    <tr>\n",
       "      <th>2</th>\n",
       "      <td>76561197960270742</td>\n",
       "      <td>0.944925</td>\n",
       "      <td>0.500</td>\n",
       "    </tr>\n",
       "    <tr>\n",
       "      <th>3</th>\n",
       "      <td>76561197960271609</td>\n",
       "      <td>0.486380</td>\n",
       "      <td>0.250</td>\n",
       "    </tr>\n",
       "    <tr>\n",
       "      <th>4</th>\n",
       "      <td>76561197960271888</td>\n",
       "      <td>0.668127</td>\n",
       "      <td>0.625</td>\n",
       "    </tr>\n",
       "    <tr>\n",
       "      <th>...</th>\n",
       "      <td>...</td>\n",
       "      <td>...</td>\n",
       "      <td>...</td>\n",
       "    </tr>\n",
       "    <tr>\n",
       "      <th>68707</th>\n",
       "      <td>76561198327778018</td>\n",
       "      <td>1.000000</td>\n",
       "      <td>0.125</td>\n",
       "    </tr>\n",
       "    <tr>\n",
       "      <th>68708</th>\n",
       "      <td>76561198328421116</td>\n",
       "      <td>0.419540</td>\n",
       "      <td>0.125</td>\n",
       "    </tr>\n",
       "    <tr>\n",
       "      <th>68709</th>\n",
       "      <td>76561198328629223</td>\n",
       "      <td>0.000000</td>\n",
       "      <td>0.125</td>\n",
       "    </tr>\n",
       "    <tr>\n",
       "      <th>68710</th>\n",
       "      <td>76561198328946162</td>\n",
       "      <td>0.998454</td>\n",
       "      <td>0.250</td>\n",
       "    </tr>\n",
       "    <tr>\n",
       "      <th>68711</th>\n",
       "      <td>76561198329548331</td>\n",
       "      <td>0.931224</td>\n",
       "      <td>0.375</td>\n",
       "    </tr>\n",
       "  </tbody>\n",
       "</table>\n",
       "<p>68712 rows × 3 columns</p>\n",
       "</div>"
      ],
      "text/plain": [
       "                 user_id  user_depth  user_width\n",
       "0      76561197960269200    0.228855       0.875\n",
       "1      76561197960270504    0.163600       0.875\n",
       "2      76561197960270742    0.944925       0.500\n",
       "3      76561197960271609    0.486380       0.250\n",
       "4      76561197960271888    0.668127       0.625\n",
       "...                  ...         ...         ...\n",
       "68707  76561198327778018    1.000000       0.125\n",
       "68708  76561198328421116    0.419540       0.125\n",
       "68709  76561198328629223    0.000000       0.125\n",
       "68710  76561198328946162    0.998454       0.250\n",
       "68711  76561198329548331    0.931224       0.375\n",
       "\n",
       "[68712 rows x 3 columns]"
      ]
     },
     "execution_count": 12,
     "metadata": {},
     "output_type": "execute_result"
    }
   ],
   "source": [
    "user_feature"
   ]
  },
  {
   "cell_type": "code",
   "execution_count": null,
   "metadata": {},
   "outputs": [],
   "source": []
  }
 ],
 "metadata": {
  "kernelspec": {
   "display_name": "local-venv",
   "language": "python",
   "name": "local-venv"
  },
  "language_info": {
   "codemirror_mode": {
    "name": "ipython",
    "version": 3
   },
   "file_extension": ".py",
   "mimetype": "text/x-python",
   "name": "python",
   "nbconvert_exporter": "python",
   "pygments_lexer": "ipython3",
   "version": "3.9.12"
  }
 },
 "nbformat": 4,
 "nbformat_minor": 1
}
