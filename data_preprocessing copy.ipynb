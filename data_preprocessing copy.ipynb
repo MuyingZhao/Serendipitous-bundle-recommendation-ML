{
 "cells": [
  {
   "cell_type": "code",
   "execution_count": 6,
   "metadata": {},
   "outputs": [],
   "source": [
    "# Commment for Mumu \n",
    "# This block will read User Item interaction Json\n",
    "# Attention, till now the Id is still in the raw format, which means it is still the steam format id\n",
    "# Our goal is to map the User/User/Bundle into its range of size.\n",
    "# Like say a table is like \n",
    "# | UserId | ItemId |\n",
    "# | 1121241414124 | 10 |\n",
    "# | 1121241414124 | 20 |\n",
    "# | 1121241414123 | 10 |\n",
    "# | 1121241414122 | 30 |\n",
    "# | 1121241414122 | 20 | \n",
    "\n",
    "# it will become \n",
    "# | UserId | ItemId |\n",
    "# | 1 | 1 |\n",
    "# | 1 | 2 |\n",
    "# | 2 | 1 |\n",
    "# | 3 | 3 |\n",
    "# | 3 | 2 | \n",
    "\n",
    "\n",
    "import pandas as pd\n",
    "import json\n",
    "aus_user_item = pd.read_csv(\"aus_user_item.csv\",index_col= [0])\n",
    "aus_user_item = aus_user_item.reset_index()\n",
    "aus_user_item = aus_user_item[[\"steam_id\",\"item_id\"]]\n",
    "aus_user_item[\"steam_id\"] = aus_user_item[\"steam_id\"].astype(str)\n",
    "aus_user_item[\"item_id\"] = aus_user_item[\"item_id\"].astype(str)\n",
    "aus_user_item = aus_user_item.drop_duplicates()"
   ]
  },
  {
   "cell_type": "code",
   "execution_count": 7,
   "metadata": {},
   "outputs": [],
   "source": [
    "raw_bundle_item = pd.read_json(\"../data/bundle_data.json\")\n",
    "raw_bundle_item = raw_bundle_item.explode(\"items\")\n",
    "raw_bundle_item = raw_bundle_item.reset_index()\n",
    "raw_bundle_item[\"item_id\"] = raw_bundle_item.apply(lambda x: x[\"items\"][\"item_id\"],axis=1)\n",
    "raw_bundle_item = raw_bundle_item[[\"bundle_id\",\"item_id\"]]"
   ]
  },
  {
   "cell_type": "code",
   "execution_count": 27,
   "metadata": {},
   "outputs": [
    {
     "name": "stdout",
     "output_type": "stream",
     "text": [
      "14\n"
     ]
    }
   ],
   "source": [
    "complex_item_data = raw_bundle_item[raw_bundle_item[\"item_id\"].str.contains(\",\")].copy()\n",
    "print(len(complex_item_data))\n",
    "new_item_data = []\n",
    "for index,row in complex_item_data.iterrows():\n",
    "    item_id_list = row[\"item_id\"].split(\",\")\n",
    "    for item_id in item_id_list:\n",
    "        new_row = row.copy()\n",
    "        new_row[\"item_id\"] = item_id\n",
    "        new_item_data.append(new_row)\n",
    "new_item_data_df = pd.DataFrame(new_item_data)\n",
    "item_data_df = raw_bundle_item.drop(raw_bundle_item[raw_bundle_item[\"item_id\"].str.contains(\",\")].index)\n",
    "item_data_df = pd.concat([item_data_df, new_item_data_df])\n",
    "item_data_df = item_data_df.drop_duplicates()"
   ]
  },
  {
   "cell_type": "code",
   "execution_count": 163,
   "metadata": {},
   "outputs": [],
   "source": [
    "# In this block we get the bundle item mapping\n",
    "# Attention, in the previous user item mapping,\n",
    "# we have map the item_id from its actual ID(10,20,30) into their sequence id, \n",
    "# we will use the seq id of item for bundle_item as well\n",
    "# but at this point we haven't done it. \n",
    "# We now have the actual bundle id and item id \n",
    "bundle_item = item_data_df[[\"bundle_id\", \"item_id\"]]\n",
    "bundle_item['bundle_id'] = bundle_item['bundle_id'].astype(str)\n",
    "bundle_item['item_id'] = bundle_item['item_id'].astype(str)\n",
    "item_data_df[\"item_id\"] = item_data_df[\"item_id\"].astype(str)\n"
   ]
  },
  {
   "cell_type": "code",
   "execution_count": 164,
   "metadata": {},
   "outputs": [],
   "source": [
    "\n",
    "# To create user bundle map \n",
    "# Attention! I cannot find the direct user bundle interaction data, so I used the merge. \n",
    "# Question! \n",
    "# We can keep only 1 user_bundle interaction record, if it's merged on the same item id\n",
    "# E.G.\n",
    "# user | item_id | bundle_id\n",
    "# 76561197970982480 | 30 | 232\n",
    "# 76561197970982480 | 30 | 235 # considered as duplicated\n",
    "# 76561197970982480 | 300 | 232\n",
    "# 76561197970982480 | 300 | 240 # considered as duplicated\n",
    "\n",
    "# we can drop the 2 lines \n",
    "# The remain will be like \n",
    "# user | item_id | bundle_id\n",
    "# 76561197970982480 | 30 | 232\n",
    "# 76561197970982480 | 300 | 232\n",
    "user_bundle = pd.merge(aus_user_item, bundle_item, how='left', on = [\"item_id\"])\n",
    "user_bundle = user_bundle.drop_duplicates([\"steam_id\",\"item_id\"])\n",
    "user_bundle = user_bundle.dropna()\n",
    "user_bundle = user_bundle[[\"steam_id\", \"bundle_id\"]]\n",
    "user_bundle = user_bundle.drop_duplicates()\n",
    "user_bundle['steam_id'] = user_bundle['steam_id'].astype(str)\n",
    "user_bundle[\"bundle_id\"] = user_bundle[\"bundle_id\"].astype(str)\n",
    "user_bundle[\"bundle_id\"] = user_bundle[\"bundle_id\"].apply(lambda x: x.replace(\".0\",\"\"))\n"
   ]
  },
  {
   "cell_type": "code",
   "execution_count": 165,
   "metadata": {},
   "outputs": [],
   "source": [
    "# In this section we will have the actual Id map to seq_id map! \n",
    "\n",
    "from collections import defaultdict\n",
    "user_mapping = defaultdict(str)\n",
    "bundle_mapping = defaultdict(str)\n",
    "item_mapping = defaultdict(str)\n",
    "\n",
    "user_id_list = sorted(list(set(list(aus_user_item.steam_id.unique()) + list(user_bundle.steam_id.unique()))))\n",
    "bundle_id_list = sorted(list(set(list(user_bundle.bundle_id.unique()) + list(bundle_item.bundle_id.unique()))))\n",
    "item_id_list = sorted(list(set(list(aus_user_item.item_id.unique()) + list(bundle_item.item_id.unique()))))\n",
    "\n",
    "for index, uid in enumerate(user_id_list):\n",
    "    user_mapping[uid] = str(index)\n",
    "for index, bid in enumerate(bundle_id_list):\n",
    "    bundle_mapping[bid] = str(index)\n",
    "for index, iid in enumerate(item_id_list):\n",
    "    item_mapping[iid] = str(index)"
   ]
  },
  {
   "cell_type": "code",
   "execution_count": 166,
   "metadata": {},
   "outputs": [],
   "source": [
    "# Saving the mapping, and then we can use it for calculating the score. \n",
    "user_mapping_json = json.dumps(user_mapping)\n",
    "with open(\"user_mapping_json.json\",'w') as f:\n",
    "    f.write(user_mapping_json)\n",
    "    \n",
    "bundle_mapping_json = json.dumps(bundle_mapping)\n",
    "with open(\"bundle_mapping_json.json\",'w') as f:\n",
    "    f.write(bundle_mapping_json)\n",
    "\n",
    "item_mapping_json = json.dumps(item_mapping)\n",
    "with open(\"item_mapping_json.json\",'w') as f:\n",
    "    f.write(item_mapping_json)"
   ]
  },
  {
   "cell_type": "code",
   "execution_count": 167,
   "metadata": {},
   "outputs": [],
   "source": [
    "# TO MAP the ID \n",
    "user_bundle['steam_id'] = user_bundle['steam_id'].apply(lambda x: user_mapping[x])\n",
    "user_bundle['bundle_id'] = user_bundle['bundle_id'].apply(lambda x: bundle_mapping[x])\n",
    "bundle_item['bundle_id'] = bundle_item['bundle_id'].apply(lambda x: bundle_mapping[x])\n",
    "bundle_item['item_id'] = bundle_item['item_id'].apply(lambda x: item_mapping[x])\n",
    "aus_user_item['steam_id'] = aus_user_item['steam_id'].apply(lambda x: user_mapping[x])\n",
    "aus_user_item['item_id'] = aus_user_item['item_id'].apply(lambda x: item_mapping[x])"
   ]
  },
  {
   "cell_type": "code",
   "execution_count": 170,
   "metadata": {},
   "outputs": [],
   "source": [
    "user_bundle.to_csv(\"user_bundle.txt\", sep='\\t', header = False, index = False)\n",
    "bundle_item.to_csv(\"bundle_item.txt\",sep='\\t', header=False, index=False)\n",
    "aus_user_item.to_csv(\"user_item.txt\",sep='\\t', header=False, index=False)"
   ]
  },
  {
   "cell_type": "code",
   "execution_count": 171,
   "metadata": {},
   "outputs": [
    {
     "name": "stdout",
     "output_type": "stream",
     "text": [
      "70912\n",
      "615\n",
      "12386\n"
     ]
    }
   ],
   "source": [
    "print(len(user_id_list))\n",
    "print(len(bundle_id_list))\n",
    "print(len(item_id_list))"
   ]
  },
  {
   "cell_type": "code",
   "execution_count": 173,
   "metadata": {},
   "outputs": [],
   "source": [
    "train_ratio = 0.75\n",
    "validation_ratio = 0.15\n",
    "test_ratio = 0.10\n",
    "# user_bundle_train = user_bundle.sample(frac=0.75) # This part can be used in different ways \n",
    "user_bundle_train = user_bundle.groupby('steam_id').apply(lambda x: x.sample(frac=0.75, random_state=1)) # using this will select user at least once\n",
    "user_bundle_train.to_csv(\"user_bundle_train.txt\", sep='\\t', header = False, index = False)"
   ]
  },
  {
   "cell_type": "code",
   "execution_count": 174,
   "metadata": {},
   "outputs": [],
   "source": [
    "user_bundle_remain = pd.concat([user_bundle_train, user_bundle]).drop_duplicates(keep=False)\n",
    "user_bundle_test = user_bundle_remain.sample(frac=0.6)\n",
    "user_bundle_tuning = pd.concat([user_bundle_remain, user_bundle_test]).drop_duplicates(keep=False)\n",
    "user_bundle_test.to_csv(\"user_bundle_test.txt\", sep='\\t', header=False, index=False)\n",
    "user_bundle_tuning.to_csv(\"user_bundle_tune.txt\", sep='\\t', header=False, index=False)"
   ]
  },
  {
   "cell_type": "code",
   "execution_count": 180,
   "metadata": {},
   "outputs": [],
   "source": [
    "user_bundle = user_bundle.reset_index()"
   ]
  },
  {
   "cell_type": "code",
   "execution_count": 197,
   "metadata": {},
   "outputs": [
    {
     "data": {
      "text/html": [
       "<div>\n",
       "<style scoped>\n",
       "    .dataframe tbody tr th:only-of-type {\n",
       "        vertical-align: middle;\n",
       "    }\n",
       "\n",
       "    .dataframe tbody tr th {\n",
       "        vertical-align: top;\n",
       "    }\n",
       "\n",
       "    .dataframe thead th {\n",
       "        text-align: right;\n",
       "    }\n",
       "</style>\n",
       "<table border=\"1\" class=\"dataframe\">\n",
       "  <thead>\n",
       "    <tr style=\"text-align: right;\">\n",
       "      <th></th>\n",
       "      <th>0</th>\n",
       "      <th>201</th>\n",
       "    </tr>\n",
       "  </thead>\n",
       "  <tbody>\n",
       "    <tr>\n",
       "      <th>0</th>\n",
       "      <td>0</td>\n",
       "      <td>510</td>\n",
       "    </tr>\n",
       "    <tr>\n",
       "      <th>1</th>\n",
       "      <td>0</td>\n",
       "      <td>172</td>\n",
       "    </tr>\n",
       "    <tr>\n",
       "      <th>2</th>\n",
       "      <td>0</td>\n",
       "      <td>261</td>\n",
       "    </tr>\n",
       "    <tr>\n",
       "      <th>3</th>\n",
       "      <td>0</td>\n",
       "      <td>439</td>\n",
       "    </tr>\n",
       "    <tr>\n",
       "      <th>4</th>\n",
       "      <td>0</td>\n",
       "      <td>28</td>\n",
       "    </tr>\n",
       "    <tr>\n",
       "      <th>...</th>\n",
       "      <td>...</td>\n",
       "      <td>...</td>\n",
       "    </tr>\n",
       "    <tr>\n",
       "      <th>458608</th>\n",
       "      <td>9998</td>\n",
       "      <td>495</td>\n",
       "    </tr>\n",
       "    <tr>\n",
       "      <th>458609</th>\n",
       "      <td>9999</td>\n",
       "      <td>194</td>\n",
       "    </tr>\n",
       "    <tr>\n",
       "      <th>458610</th>\n",
       "      <td>9999</td>\n",
       "      <td>598</td>\n",
       "    </tr>\n",
       "    <tr>\n",
       "      <th>458611</th>\n",
       "      <td>9999</td>\n",
       "      <td>495</td>\n",
       "    </tr>\n",
       "    <tr>\n",
       "      <th>458612</th>\n",
       "      <td>9999</td>\n",
       "      <td>5</td>\n",
       "    </tr>\n",
       "  </tbody>\n",
       "</table>\n",
       "<p>458613 rows × 2 columns</p>\n",
       "</div>"
      ],
      "text/plain": [
       "           0  201\n",
       "0          0  510\n",
       "1          0  172\n",
       "2          0  261\n",
       "3          0  439\n",
       "4          0   28\n",
       "...      ...  ...\n",
       "458608  9998  495\n",
       "458609  9999  194\n",
       "458610  9999  598\n",
       "458611  9999  495\n",
       "458612  9999    5\n",
       "\n",
       "[458613 rows x 2 columns]"
      ]
     },
     "execution_count": 197,
     "metadata": {},
     "output_type": "execute_result"
    }
   ],
   "source": []
  }
 ],
 "metadata": {
  "kernelspec": {
   "display_name": "local-venv",
   "language": "python",
   "name": "local-venv"
  },
  "language_info": {
   "codemirror_mode": {
    "name": "ipython",
    "version": 3
   },
   "file_extension": ".py",
   "mimetype": "text/x-python",
   "name": "python",
   "nbconvert_exporter": "python",
   "pygments_lexer": "ipython3",
   "version": "3.9.12"
  }
 },
 "nbformat": 4,
 "nbformat_minor": 1
}
