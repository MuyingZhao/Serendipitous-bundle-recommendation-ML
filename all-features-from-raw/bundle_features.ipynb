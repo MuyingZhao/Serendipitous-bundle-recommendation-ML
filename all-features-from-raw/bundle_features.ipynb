{
 "cells": [
  {
   "cell_type": "code",
   "execution_count": 1,
   "metadata": {
    "collapsed": true
   },
   "outputs": [],
   "source": [
    "import pandas as pd\n",
    "import json\n",
    "from sklearn.cluster import KMeans\n",
    "\n",
    "# Cluster users\n",
    "user_info = json.load(open(\"aus_user_feature.json\"))\n",
    "user_info = dict(user_info)\n",
    "# extract the data, extract the value of the dictionary\n",
    "user_info_value = [user_info[k] for k in user_info.keys()]\n",
    "kmeans = KMeans(n_clusters=16,  random_state=42, max_iter = 300).fit(user_info_value)"
   ]
  },
  {
   "cell_type": "code",
   "execution_count": 2,
   "metadata": {
    "collapsed": false
   },
   "outputs": [],
   "source": [
    "user_label = {list(user_info.keys())[i]:kmeans.labels_[i] for i in range(len(kmeans.labels_))}\n",
    "user_label_df = pd.DataFrame(user_label.items(), columns=[\"user\", \"label\"])\n",
    "user_df = pd.DataFrame(user_info.items(),columns=[\"user\",\"weights\"])\n",
    "user_df_with_label = pd.merge(user_df, user_label_df, how = \"left\", on=[\"user\"])"
   ]
  },
  {
   "cell_type": "code",
   "execution_count": 3,
   "metadata": {},
   "outputs": [],
   "source": [
    "aus_user_item = pd.read_csv(\"aus_user_item.csv\",index_col= [0])\n",
    "aus_user_item = aus_user_item.reset_index()\n",
    "aus_user_item = aus_user_item[[\"steam_id\",\"item_id\"]]\n",
    "aus_user_item[\"steam_id\"] = aus_user_item[\"steam_id\"].astype(str)\n",
    "aus_user_item[\"item_id\"] = aus_user_item[\"item_id\"].astype(str)\n",
    "aus_user_item = aus_user_item.drop_duplicates()\n"
   ]
  },
  {
   "cell_type": "code",
   "execution_count": 4,
   "metadata": {},
   "outputs": [
    {
     "name": "stdout",
     "output_type": "stream",
     "text": [
      "14\n"
     ]
    }
   ],
   "source": [
    "raw_bundle_item = pd.read_json(\"../data/bundle_data.json\")\n",
    "raw_bundle_item = raw_bundle_item.explode(\"items\")\n",
    "raw_bundle_item = raw_bundle_item.reset_index()\n",
    "raw_bundle_item[\"item_id\"] = raw_bundle_item.apply(lambda x: x[\"items\"][\"item_id\"],axis=1)\n",
    "raw_bundle_item = raw_bundle_item[[\"bundle_id\",\"item_id\"]]\n",
    "complex_item_data = raw_bundle_item[raw_bundle_item[\"item_id\"].str.contains(\",\")].copy()\n",
    "print(len(complex_item_data))\n",
    "new_item_data = []\n",
    "for index,row in complex_item_data.iterrows():\n",
    "    item_id_list = row[\"item_id\"].split(\",\")\n",
    "    for item_id in item_id_list:\n",
    "        new_row = row.copy()\n",
    "        new_row[\"item_id\"] = item_id\n",
    "        new_item_data.append(new_row)\n",
    "new_item_data_df = pd.DataFrame(new_item_data)\n",
    "item_data_df = raw_bundle_item.drop(raw_bundle_item[raw_bundle_item[\"item_id\"].str.contains(\",\")].index)\n",
    "item_data_df = pd.concat([item_data_df, new_item_data_df])\n",
    "item_data_df = item_data_df.drop_duplicates()\n",
    "\n",
    "user_bundle = pd.merge(aus_user_item, item_data_df, how='left', on = [\"item_id\"])\n",
    "user_bundle = user_bundle.drop_duplicates([\"steam_id\",\"item_id\"])\n",
    "user_bundle = user_bundle.dropna()\n",
    "user_bundle = user_bundle[[\"steam_id\", \"bundle_id\"]]\n",
    "user_bundle = user_bundle.drop_duplicates()\n",
    "user_bundle['steam_id'] = user_bundle['steam_id'].astype(str)\n",
    "user_bundle[\"bundle_id\"] = user_bundle[\"bundle_id\"].astype(str)\n",
    "user_bundle[\"bundle_id\"] = user_bundle[\"bundle_id\"].apply(lambda x: x.replace(\".0\",\"\"))"
   ]
  },
  {
   "cell_type": "code",
   "execution_count": 5,
   "metadata": {},
   "outputs": [],
   "source": [
    "user_label_df = user_label_df.rename({\"user\":\"steam_id\"},axis=1)\n",
    "user_bundle_with_user_label = pd.merge(user_bundle, user_label_df, how = 'left', on = ['steam_id'])"
   ]
  },
  {
   "cell_type": "code",
   "execution_count": 6,
   "metadata": {},
   "outputs": [],
   "source": [
    "user_bundle_with_user_label = user_bundle_with_user_label.dropna()\n",
    "user_bundle = user_bundle.dropna()\n",
    "user_bundle = user_bundle.drop_duplicates()\n",
    "user_bundle_with_user_label[\"label\"] = user_bundle_with_user_label[\"label\"].astype(int)"
   ]
  },
  {
   "cell_type": "code",
   "execution_count": 7,
   "metadata": {
    "collapsed": false
   },
   "outputs": [],
   "source": [
    "breadth_bundle = user_bundle_with_user_label.groupby(\"bundle_id\").size()/len(user_info)"
   ]
  },
  {
   "cell_type": "code",
   "execution_count": 8,
   "metadata": {
    "collapsed": false
   },
   "outputs": [],
   "source": [
    "from collections import defaultdict\n",
    "depth_bundle = defaultdict(int)\n",
    "for b_id in user_bundle_with_user_label.bundle_id.unique():\n",
    "    bundle_data = user_bundle_with_user_label[user_bundle_with_user_label['bundle_id'] == b_id]\n",
    "    purchasing_user = len(bundle_data)\n",
    "    largest_group = bundle_data.groupby(\"label\").size().max()\n",
    "    depth_bundle[b_id] = largest_group/purchasing_user\n"
   ]
  },
  {
   "cell_type": "code",
   "execution_count": 9,
   "metadata": {
    "collapsed": false
   },
   "outputs": [],
   "source": [
    "depth_bundle_df= pd.DataFrame(depth_bundle.items(),columns=[\"bundle_id\",\"depth_coverage\"])"
   ]
  },
  {
   "cell_type": "code",
   "execution_count": 10,
   "metadata": {
    "collapsed": false
   },
   "outputs": [],
   "source": [
    "breadth_bundle_df = pd.DataFrame(breadth_bundle).reset_index()"
   ]
  },
  {
   "cell_type": "code",
   "execution_count": 11,
   "metadata": {
    "collapsed": false
   },
   "outputs": [],
   "source": [
    "breadth_bundle_df.rename({0:\"breadth_coverage\"}, inplace=True,axis=1)"
   ]
  },
  {
   "cell_type": "code",
   "execution_count": 12,
   "metadata": {
    "collapsed": false
   },
   "outputs": [],
   "source": [
    "bundle_features = pd.merge(depth_bundle_df,breadth_bundle_df, on=[\"bundle_id\"], how = \"left\")"
   ]
  },
  {
   "cell_type": "code",
   "execution_count": 13,
   "metadata": {
    "collapsed": false
   },
   "outputs": [],
   "source": [
    "bundle_features.to_csv(\"features_dataset/bundle_features_with_depth.csv\")"
   ]
  },
  {
   "cell_type": "code",
   "execution_count": null,
   "metadata": {},
   "outputs": [],
   "source": []
  }
 ],
 "metadata": {
  "kernelspec": {
   "display_name": "local-venv",
   "language": "python",
   "name": "local-venv"
  },
  "language_info": {
   "codemirror_mode": {
    "name": "ipython",
    "version": 3
   },
   "file_extension": ".py",
   "mimetype": "text/x-python",
   "name": "python",
   "nbconvert_exporter": "python",
   "pygments_lexer": "ipython3",
   "version": "3.9.12"
  }
 },
 "nbformat": 4,
 "nbformat_minor": 0
}
